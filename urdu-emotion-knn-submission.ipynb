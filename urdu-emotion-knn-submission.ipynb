{
 "cells": [
  {
   "cell_type": "code",
   "execution_count": 1,
   "id": "de4f3a1e",
   "metadata": {
    "execution": {
     "iopub.execute_input": "2024-12-02T09:00:04.318829Z",
     "iopub.status.busy": "2024-12-02T09:00:04.318443Z",
     "iopub.status.idle": "2024-12-02T09:00:04.323852Z",
     "shell.execute_reply": "2024-12-02T09:00:04.323017Z"
    },
    "id": "NSz29akHKMyb",
    "papermill": {
     "duration": 0.013902,
     "end_time": "2024-12-02T09:00:04.325748",
     "exception": false,
     "start_time": "2024-12-02T09:00:04.311846",
     "status": "completed"
    },
    "tags": []
   },
   "outputs": [],
   "source": [
    "# --- KNN --- #"
   ]
  },
  {
   "cell_type": "markdown",
   "id": "b28773f3",
   "metadata": {
    "papermill": {
     "duration": 0.004372,
     "end_time": "2024-12-02T09:00:04.334733",
     "exception": false,
     "start_time": "2024-12-02T09:00:04.330361",
     "status": "completed"
    },
    "tags": []
   },
   "source": [
    "This code imports a mix of libraries needed for handling files, processing audio, and building machine learning models. It uses `librosa` for audio feature extraction, `sklearn` for training and evaluating models, and `matplotlib`/`seaborn` for creating visualizations. It also suppresses warnings related to audio signal processing to keep the output clean while running the code."
   ]
  },
  {
   "cell_type": "code",
   "execution_count": 2,
   "id": "a517383f",
   "metadata": {
    "execution": {
     "iopub.execute_input": "2024-12-02T09:00:04.345212Z",
     "iopub.status.busy": "2024-12-02T09:00:04.344796Z",
     "iopub.status.idle": "2024-12-02T09:00:08.339431Z",
     "shell.execute_reply": "2024-12-02T09:00:08.338356Z"
    },
    "id": "jclOLxynKMyc",
    "papermill": {
     "duration": 4.002763,
     "end_time": "2024-12-02T09:00:08.341929",
     "exception": false,
     "start_time": "2024-12-02T09:00:04.339166",
     "status": "completed"
    },
    "tags": []
   },
   "outputs": [],
   "source": [
    "import os\n",
    "import warnings\n",
    "import glob\n",
    "import librosa\n",
    "import librosa.display\n",
    "import numpy as np\n",
    "import pickle\n",
    "import pandas as pd\n",
    "import matplotlib.pyplot as plt\n",
    "import seaborn as sns\n",
    "from datasets import Dataset\n",
    "\n",
    "from sklearn import svm, model_selection\n",
    "from sklearn.ensemble import VotingClassifier\n",
    "from sklearn.metrics import accuracy_score, confusion_matrix\n",
    "from sklearn.neighbors import KNeighborsClassifier\n",
    "from sklearn.model_selection import learning_curve\n",
    "\n",
    "# Suppress specific warning about n_fft size from librosa\n",
    "warnings.filterwarnings(\"ignore\", message=\"n_fft=1024 is too large for input signal\")\n",
    "warnings.filterwarnings(\"ignore\", message=\"n_fft=2048 is too large for input signal\")\n",
    "\n",
    "# Libraries like os, glob, and librosa are imported for file handling, audio processing, \n",
    "# and visualization. sklearn and pickle are used for model training, evaluation, and saving."
   ]
  },
  {
   "cell_type": "markdown",
   "id": "5006508a",
   "metadata": {
    "papermill": {
     "duration": 0.004274,
     "end_time": "2024-12-02T09:00:08.350885",
     "exception": false,
     "start_time": "2024-12-02T09:00:08.346611",
     "status": "completed"
    },
    "tags": []
   },
   "source": [
    "This code sets up the directories for loading and saving data, specifically targeting the `normalized` folder for input and the `working` directory for output. It then counts and sums the number of `.wav` files in each emotion category (Anger, Happiness, Sadness, Neutral) within the training data, and prints the total number of audio files across all categories."
   ]
  },
  {
   "cell_type": "code",
   "execution_count": 3,
   "id": "e2754bcd",
   "metadata": {
    "execution": {
     "iopub.execute_input": "2024-12-02T09:00:08.362239Z",
     "iopub.status.busy": "2024-12-02T09:00:08.361008Z",
     "iopub.status.idle": "2024-12-02T09:00:08.538273Z",
     "shell.execute_reply": "2024-12-02T09:00:08.536932Z"
    },
    "papermill": {
     "duration": 0.185444,
     "end_time": "2024-12-02T09:00:08.540705",
     "exception": false,
     "start_time": "2024-12-02T09:00:08.355261",
     "status": "completed"
    },
    "tags": []
   },
   "outputs": [
    {
     "name": "stdout",
     "output_type": "stream",
     "text": [
      "Total number of files in training data (combined across 'Anger, Happiness, Sadness, Neutral' folders): 13918\n"
     ]
    }
   ],
   "source": [
    "# Loading audio files\n",
    "\n",
    "# input_dir = '/kaggle/input'\n",
    "# for root, dirs, files in os.walk(input_dir):\n",
    "#     for dir_name in dirs:\n",
    "#         print(os.path.join(root, dir_name))\n",
    "\n",
    "input_dir = '/kaggle/input/normalized'\n",
    "output_dir = \"/kaggle/working\"\n",
    "\n",
    "# Emotions\n",
    "categories = [\"Anger\", \"Happiness\", \"Sadness\", \"Neutral\"]\n",
    "\n",
    "# Count files in each category folder and get the combined total\n",
    "train_total = 0\n",
    "for category in categories:\n",
    "    category_path = os.path.join(input_dir, category)\n",
    "    audio_files = [f for f in os.listdir(category_path) if f.endswith('.wav')]\n",
    "    train_total += len(audio_files)\n",
    "\n",
    "print(f\"Total number of files in training data (combined across '{', '.join(categories)}' folders): {train_total}\")"
   ]
  },
  {
   "cell_type": "markdown",
   "id": "7e469ac5",
   "metadata": {
    "papermill": {
     "duration": 0.004162,
     "end_time": "2024-12-02T09:00:08.549401",
     "exception": false,
     "start_time": "2024-12-02T09:00:08.545239",
     "status": "completed"
    },
    "tags": []
   },
   "source": [
    "This code defines a function to extract audio features from `.wav` files using `librosa`, including MFCCs, chroma, mel spectrogram, spectral contrast, and tonnetz. It processes audio files from different emotion categories, extracts the features, and splits the dataset into training, validation, and test sets using Hugging Face's `Dataset` format. Finally, it prints the sizes of each dataset split."
   ]
  },
  {
   "cell_type": "code",
   "execution_count": 4,
   "id": "ffc67102",
   "metadata": {
    "execution": {
     "iopub.execute_input": "2024-12-02T09:00:08.559865Z",
     "iopub.status.busy": "2024-12-02T09:00:08.559463Z",
     "iopub.status.idle": "2024-12-02T10:21:52.760536Z",
     "shell.execute_reply": "2024-12-02T10:21:52.758783Z"
    },
    "id": "HB0CNIK7KMyd",
    "outputId": "c9b5c42c-93ea-4cd3-ed56-5dfd41f8779a",
    "papermill": {
     "duration": 4904.223499,
     "end_time": "2024-12-02T10:21:52.777203",
     "exception": false,
     "start_time": "2024-12-02T09:00:08.553704",
     "status": "completed"
    },
    "scrolled": true,
    "tags": []
   },
   "outputs": [
    {
     "name": "stdout",
     "output_type": "stream",
     "text": [
      "Training dataset size: 10020\n",
      "Validation dataset size: 1114\n",
      "Test dataset size: 2784\n"
     ]
    }
   ],
   "source": [
    "# Function to extract features from an audio file\n",
    "def extract_feature(file_name):\n",
    "    try:\n",
    "        # Load the audio file using librosa\n",
    "        X, sample_rate = librosa.load(file_name)\n",
    "        \n",
    "        # Set a consistent, smaller n_fft value for short signals\n",
    "        n_fft = 512\n",
    "\n",
    "        # Pad the audio file to at least n_fft length if shorter\n",
    "        if len(X) < n_fft:\n",
    "            X = np.pad(X, (0, n_fft - len(X)))\n",
    "\n",
    "        # Calculate the Short-Time Fourier Transform (STFT)\n",
    "        stft = np.abs(librosa.stft(X, n_fft=n_fft))\n",
    "\n",
    "        # Extract Mel-frequency cepstral coefficients (MFCCs)\n",
    "        mfccs = np.mean(librosa.feature.mfcc(y=X, sr=sample_rate, n_mfcc=40).T, axis=0)\n",
    "\n",
    "        # Extract chroma feature (pitch class)\n",
    "        chroma = np.mean(librosa.feature.chroma_stft(S=stft, sr=sample_rate).T, axis=0)\n",
    "\n",
    "        # Extract Mel spectrogram\n",
    "        mel = np.mean(librosa.feature.melspectrogram(y=X, sr=sample_rate).T, axis=0)\n",
    "\n",
    "        # Extract spectral contrast\n",
    "        contrast = np.mean(librosa.feature.spectral_contrast(S=stft, sr=sample_rate).T, axis=0)\n",
    "\n",
    "        # Extract tonnetz (harmonic features)\n",
    "        tonnetz = np.mean(librosa.feature.tonnetz(y=librosa.effects.harmonic(X), sr=sample_rate).T, axis=0)\n",
    "        \n",
    "        # Return all features concatenated into a single vector\n",
    "        return np.hstack([mfccs, chroma, mel, contrast, tonnetz])\n",
    "\n",
    "    except Exception as e:\n",
    "        # Handle errors in feature extraction\n",
    "        print(f\"Error extracting features from {file_name}: {e}\")\n",
    "        return None\n",
    "\n",
    "# Function to parse all audio files from each category and extract features\n",
    "def parse_audio_files(base_dir, categories):\n",
    "    features, labels = [], []\n",
    "    \n",
    "    # Loop through each category folder\n",
    "    for category in categories:\n",
    "        category_path = os.path.join(base_dir, category)\n",
    "        \n",
    "        # Get all .wav files in the current category\n",
    "        audio_files = glob.glob(os.path.join(category_path, '*.wav'))\n",
    "        \n",
    "        # Process each audio file\n",
    "        for fn in audio_files:\n",
    "            ext_features = extract_feature(fn)\n",
    "            \n",
    "            # If feature extraction is successful, append features and label\n",
    "            if ext_features is not None:\n",
    "                features.append(ext_features)\n",
    "                labels.append(category)\n",
    "    \n",
    "    # Convert features and labels to numpy arrays\n",
    "    return np.array(features), np.array(labels)\n",
    "\n",
    "# Parse the training data with all files per category\n",
    "tr_features, tr_labels = parse_audio_files(input_dir, categories)\n",
    "\n",
    "# Convert dataset to Hugging Face format\n",
    "dataset = Dataset.from_dict({\n",
    "    \"audio\": tr_features.tolist(),\n",
    "    \"label\": tr_labels.tolist()\n",
    "})\n",
    "\n",
    "# Split dataset into training, validation, and test sets\n",
    "train_val_dataset = dataset.train_test_split(test_size=0.2, seed=42)\n",
    "train_dataset, val_dataset = train_val_dataset['train'].train_test_split(test_size=0.1, seed=42).values()\n",
    "test_dataset = train_val_dataset['test']\n",
    "\n",
    "# Output dataset sizes\n",
    "print(f\"Training dataset size: {len(train_dataset)}\")\n",
    "print(f\"Validation dataset size: {len(val_dataset)}\")\n",
    "print(f\"Test dataset size: {len(test_dataset)}\")"
   ]
  },
  {
   "cell_type": "markdown",
   "id": "acc9cd8e",
   "metadata": {
    "papermill": {
     "duration": 0.004657,
     "end_time": "2024-12-02T10:21:52.794096",
     "exception": false,
     "start_time": "2024-12-02T10:21:52.789439",
     "status": "completed"
    },
    "tags": []
   },
   "source": [
    "This code converts the audio features and labels from the training, validation, and test datasets into numpy arrays. It then trains a K-Nearest Neighbors (KNN) classifier using the training data, prints a success message, and saves the trained model to a file using `pickle` for later use."
   ]
  },
  {
   "cell_type": "code",
   "execution_count": 5,
   "id": "40d784af",
   "metadata": {
    "execution": {
     "iopub.execute_input": "2024-12-02T10:21:52.806892Z",
     "iopub.status.busy": "2024-12-02T10:21:52.806161Z",
     "iopub.status.idle": "2024-12-02T10:21:54.345512Z",
     "shell.execute_reply": "2024-12-02T10:21:54.344280Z"
    },
    "papermill": {
     "duration": 1.549123,
     "end_time": "2024-12-02T10:21:54.347838",
     "exception": false,
     "start_time": "2024-12-02T10:21:52.798715",
     "status": "completed"
    },
    "tags": []
   },
   "outputs": [
    {
     "name": "stdout",
     "output_type": "stream",
     "text": [
      "Model trained successfully on the training dataset.\n",
      "Model Saved.\n"
     ]
    }
   ],
   "source": [
    "# Convert Dataset objects to numpy arrays\n",
    "X_train = np.array(train_dataset['audio'], dtype=np.float32)\n",
    "y_train = np.array(train_dataset['label'], dtype=str)\n",
    "X_val = np.array(val_dataset['audio'], dtype=np.float32)\n",
    "y_val = np.array(val_dataset['label'], dtype=str)\n",
    "X_test = np.array(test_dataset['audio'], dtype=np.float32)\n",
    "y_test = np.array(test_dataset['label'], dtype=str)\n",
    "\n",
    "# Train the KNN model\n",
    "neigh = KNeighborsClassifier(n_neighbors=5)\n",
    "neigh.fit(X_train, y_train)\n",
    "print(\"Model trained successfully on the training dataset.\")\n",
    "\n",
    "# Save the model\n",
    "filename = 'Ensemble_Model_protocol_knn.sav'\n",
    "pickle.dump(neigh, open(filename, 'wb'))\n",
    "print('Model Saved.')"
   ]
  },
  {
   "cell_type": "markdown",
   "id": "be96217b",
   "metadata": {
    "id": "Zc-HCOmkKMyf",
    "papermill": {
     "duration": 0.004252,
     "end_time": "2024-12-02T10:21:54.356847",
     "exception": false,
     "start_time": "2024-12-02T10:21:54.352595",
     "status": "completed"
    },
    "tags": []
   },
   "source": [
    "This code extracts features from `.wav` audio files using `librosa`, including MFCCs, chroma, mel spectrogram, spectral contrast, and tonnetz. It processes all audio files in given categories, combines the features into a single vector for each file, and stores the features along with their respective labels. Afterward, it checks if the test dataset is properly formatted, uses the trained model to make predictions on the test data, and then evaluates the model’s performance by displaying the accuracy score and confusion matrix."
   ]
  },
  {
   "cell_type": "code",
   "execution_count": 6,
   "id": "f6edfcbf",
   "metadata": {
    "execution": {
     "iopub.execute_input": "2024-12-02T10:21:54.368238Z",
     "iopub.status.busy": "2024-12-02T10:21:54.367778Z",
     "iopub.status.idle": "2024-12-02T10:21:55.122524Z",
     "shell.execute_reply": "2024-12-02T10:21:55.121214Z"
    },
    "id": "jmE0C4UjKMyf",
    "outputId": "6054c924-cc27-401f-c36f-2d460d7027ec",
    "papermill": {
     "duration": 0.763554,
     "end_time": "2024-12-02T10:21:55.125004",
     "exception": false,
     "start_time": "2024-12-02T10:21:54.361450",
     "status": "completed"
    },
    "tags": []
   },
   "outputs": [
    {
     "name": "stdout",
     "output_type": "stream",
     "text": [
      "Accuracy Score: 0.9116379310344828\n",
      "Number of Correct Predictions: 2538 out of 2784\n"
     ]
    }
   ],
   "source": [
    "# List to store file names\n",
    "target_files = []\n",
    "\n",
    "# Method to extract features from speech using librosa\n",
    "def extract_feature(file_name):\n",
    "    try:\n",
    "        # Load the audio file using librosa\n",
    "        X, sample_rate = librosa.load(file_name)\n",
    "        \n",
    "        # Pad short audio files to ensure they have a minimum length of 512\n",
    "        if len(X) < 512:\n",
    "            X = np.pad(X, (0, 512 - len(X)))\n",
    "        \n",
    "        # Compute the Short-Time Fourier Transform (STFT)\n",
    "        stft = np.abs(librosa.stft(X, n_fft=512))\n",
    "        \n",
    "        # Extract Mel-frequency cepstral coefficients (MFCCs)\n",
    "        mfccs = np.mean(librosa.feature.mfcc(y=X, sr=sample_rate, n_mfcc=40).T, axis=0)\n",
    "        \n",
    "        # Extract chroma feature (pitch class)\n",
    "        chroma = np.mean(librosa.feature.chroma_stft(S=stft, sr=sample_rate).T, axis=0)\n",
    "        \n",
    "        # Extract Mel spectrogram\n",
    "        mel = np.mean(librosa.feature.melspectrogram(y=X, sr=sample_rate).T, axis=0)\n",
    "        \n",
    "        # Extract spectral contrast\n",
    "        contrast = np.mean(librosa.feature.spectral_contrast(S=stft, sr=sample_rate).T, axis=0)\n",
    "        \n",
    "        # Extract tonnetz (harmonic features)\n",
    "        tonnetz = np.mean(librosa.feature.tonnetz(y=librosa.effects.harmonic(X), sr=sample_rate).T, axis=0)\n",
    "        \n",
    "        # Return all extracted features\n",
    "        return mfccs, chroma, mel, contrast, tonnetz\n",
    "\n",
    "    except Exception as e:\n",
    "        # Handle errors during feature extraction\n",
    "        print(f\"Error extracting features from {file_name}: {e}\")\n",
    "        return None  # Return None if extraction fails\n",
    "\n",
    "# Updated method to parse all audio files from each category folder\n",
    "def parse_audio_files(base_dir, categories):\n",
    "    features, labels = [], []\n",
    "    \n",
    "    # Loop through each category folder\n",
    "    for category in categories:\n",
    "        category_path = os.path.join(base_dir, category)\n",
    "        \n",
    "        # Load all .wav files in the current category folder\n",
    "        audio_files = glob.glob(os.path.join(category_path, '*.wav'))\n",
    "        \n",
    "        # Process each audio file\n",
    "        for fn in audio_files:\n",
    "            ext_features = extract_feature(fn)\n",
    "            \n",
    "            # If feature extraction is successful, append the features and label\n",
    "            if ext_features is not None:\n",
    "                mfccs, chroma, mel, contrast, tonnetz = ext_features\n",
    "                \n",
    "                # Combine all features into a single vector\n",
    "                combined_features = np.hstack([mfccs, chroma, mel, contrast, tonnetz])\n",
    "                \n",
    "                # Append the feature and its corresponding label\n",
    "                features.append(combined_features)\n",
    "                labels.append(category)  # Use the folder name as the label\n",
    "                \n",
    "                # Store the file name for later use\n",
    "                target_files.append(fn)\n",
    "                \n",
    "    # Convert features and labels to numpy arrays\n",
    "    return np.array(features), np.array(labels)\n",
    "\n",
    "# Ensure test_dataset is in the proper format\n",
    "if \"audio\" in test_dataset.column_names and \"label\" in test_dataset.column_names:\n",
    "    # Convert test dataset's \"audio\" and \"label\" columns to numpy arrays\n",
    "    ts_features = np.array(test_dataset[\"audio\"], dtype=np.float32)\n",
    "    ts_labels = np.array(test_dataset[\"label\"], dtype=str)\n",
    "\n",
    "    # Predict using the trained model\n",
    "    prediction = neigh.predict(ts_features)\n",
    "\n",
    "    # Create and plot confusion matrix\n",
    "    matrix = confusion_matrix(ts_labels, prediction)\n",
    "    \n",
    "    # Get unique classes from the test labels and predictions\n",
    "    unique_classes = sorted(list(set(ts_labels).union(set(prediction))))\n",
    "\n",
    "    # Create a DataFrame for the confusion matrix\n",
    "    df = pd.DataFrame(matrix, columns=unique_classes, index=unique_classes)\n",
    "\n",
    "    # Display evaluation metrics\n",
    "    accuracy = accuracy_score(ts_labels, prediction)\n",
    "    correct_predictions = accuracy_score(ts_labels, prediction, normalize=False)\n",
    "    print(f'Accuracy Score: {accuracy}')\n",
    "    print(f'Number of Correct Predictions: {correct_predictions} out of {len(ts_labels)}')\n",
    "else:\n",
    "    print(\"test_dataset must contain 'audio' and 'label' fields. Please verify the dataset format.\")\n"
   ]
  },
  {
   "cell_type": "markdown",
   "id": "95d8d7a9",
   "metadata": {
    "papermill": {
     "duration": 0.004444,
     "end_time": "2024-12-02T10:21:55.134599",
     "exception": false,
     "start_time": "2024-12-02T10:21:55.130155",
     "status": "completed"
    },
    "tags": []
   },
   "source": [
    "This code evaluates the trained KNN model's performance on the training, validation, and test datasets. It computes accuracy scores for each dataset and generates a confusion matrix heatmap for the test set to visualize classification performance. Additionally, the code plots accuracy trends for training and validation data over time, and uses `learning_curve` from `sklearn` to calculate and plot the learning curve with cross-validation, displaying the model's performance as more training data is used. The learning curve shows the relationship between training size and model accuracy, with standard deviation bands highlighting the variability."
   ]
  },
  {
   "cell_type": "code",
   "execution_count": 7,
   "id": "a91e4c35",
   "metadata": {
    "execution": {
     "iopub.execute_input": "2024-12-02T10:21:55.146076Z",
     "iopub.status.busy": "2024-12-02T10:21:55.145611Z",
     "iopub.status.idle": "2024-12-02T10:22:11.909942Z",
     "shell.execute_reply": "2024-12-02T10:22:11.908531Z"
    },
    "id": "s8rn_peBKMyg",
    "papermill": {
     "duration": 16.773121,
     "end_time": "2024-12-02T10:22:11.912401",
     "exception": false,
     "start_time": "2024-12-02T10:21:55.139280",
     "status": "completed"
    },
    "tags": []
   },
   "outputs": [
    {
     "data": {
      "image/png": "[encoded data removed]",
      "text/plain": [
       "<Figure size 1000x800 with 2 Axes>"
      ]
     },
     "metadata": {},
     "output_type": "display_data"
    },
    {
     "name": "stdout",
     "output_type": "stream",
     "text": [
      "Train Accuracy: 0.9475\n",
      "Validation Accuracy: 0.9174\n",
      "Test Accuracy: 0.9116\n"
     ]
    },
    {
     "data": {
      "image/png": "[encoded data removed]",
      "text/plain": [
       "<Figure size 1200x500 with 1 Axes>"
      ]
     },
     "metadata": {},
     "output_type": "display_data"
    },
    {
     "name": "stdout",
     "output_type": "stream",
     "text": [
      "[learning_curve] Training set sizes: [ 801 2605 4408 6212 8016]\n"
     ]
    },
    {
     "name": "stderr",
     "output_type": "stream",
     "text": [
      "[Parallel(n_jobs=-1)]: Using backend LokyBackend with 4 concurrent workers.\n",
      "[Parallel(n_jobs=-1)]: Done  25 out of  25 | elapsed:   13.5s finished\n"
     ]
    },
    {
     "data": {
      "image/png": "[encoded data removed]",
      "text/plain": [
       "<Figure size 1000x1600 with 1 Axes>"
      ]
     },
     "metadata": {},
     "output_type": "display_data"
    }
   ],
   "source": [
    "# Evaluate on training, validation, and test data\n",
    "train_accuracy = accuracy_score(y_train, neigh.predict(X_train))\n",
    "val_accuracy = accuracy_score(y_val, neigh.predict(X_val))\n",
    "test_accuracy = accuracy_score(y_test, neigh.predict(X_test))\n",
    "\n",
    "# Calculate confusion matrix for test data\n",
    "prediction = neigh.predict(X_test)\n",
    "conf_matrix = confusion_matrix(y_test, prediction)\n",
    "\n",
    "# Plot confusion matrix heatmap\n",
    "category_names = sorted(list(set(y_val).union(set(prediction))))  # Unique category names\n",
    "plt.figure(figsize=(10, 8))\n",
    "sns.heatmap(conf_matrix, annot=True, fmt='d', cmap='Blues', xticklabels=category_names, yticklabels=category_names)\n",
    "plt.title('Confusion Matrix Heatmap')\n",
    "plt.xlabel('Predicted Labels')\n",
    "plt.ylabel('True Labels')\n",
    "plt.show()\n",
    "\n",
    "# Print final evaluation metrics\n",
    "print(f\"Train Accuracy: {train_accuracy:.4f}\")\n",
    "print(f\"Validation Accuracy: {val_accuracy:.4f}\")\n",
    "print(f\"Test Accuracy: {test_accuracy:.4f}\")\n",
    "\n",
    "# Plot Accuracy (Single plot)\n",
    "plt.figure(figsize=(12, 5))\n",
    "\n",
    "# Accuracy plot (Training vs Validation vs Test) with labels\n",
    "plt.plot([train_accuracy], label='Training Accuracy', marker='o', markersize=8, color='blue')\n",
    "plt.plot([val_accuracy], label='Validation Accuracy', marker='o', markersize=8, color='red')\n",
    "# plt.plot([test_accuracy], label='Test Accuracy', marker='o', markersize=8, color='blue')\n",
    "\n",
    "# Customize the plot\n",
    "plt.xticks([0, 1, 2])  # Set x-axis ticks for clarity\n",
    "plt.xlabel('Accuracy Type')  # Label the x-axis\n",
    "plt.ylabel('Accuracy')\n",
    "plt.legend()\n",
    "plt.title('Training and Validation Accuracy')\n",
    "plt.grid(True)  # Add a grid for better readability\n",
    "\n",
    "plt.tight_layout()\n",
    "plt.show()\n",
    "\n",
    "from sklearn.model_selection import KFold, learning_curve\n",
    "import matplotlib.pyplot as plt\n",
    "\n",
    "# Define the KFold object for cross-validation\n",
    "seed = 42\n",
    "kfold = KFold(n_splits=5, shuffle=True, random_state=seed)\n",
    "\n",
    "# Use learning_curve to calculate scores\n",
    "train_sizes, train_scores, test_scores = learning_curve(\n",
    "    neigh, X_train, y_train, n_jobs=-1, cv=kfold, train_sizes=np.linspace(.1, 1.0, 5), verbose=1\n",
    ")\n",
    "\n",
    "# Calculate mean and standard deviation of scores\n",
    "train_scores_mean = np.mean(train_scores, axis=1)\n",
    "train_scores_std = np.std(train_scores, axis=1)\n",
    "test_scores_mean = np.mean(test_scores, axis=1)\n",
    "test_scores_std = np.std(test_scores, axis=1)\n",
    "\n",
    "# Plot the learning curve\n",
    "plt.figure(figsize=(10, 16))\n",
    "plt.title(\"KNN Model Learning Curve\")\n",
    "plt.xlabel(\"Training examples\")\n",
    "plt.ylabel(\"Score\")\n",
    "plt.grid(True)\n",
    "\n",
    "# Plot the mean scores with standard deviation bands\n",
    "plt.fill_between(train_sizes, train_scores_mean - train_scores_std, train_scores_mean + train_scores_std, alpha=0.1, color=\"r\")\n",
    "plt.fill_between(train_sizes, test_scores_mean - test_scores_std, test_scores_mean + test_scores_std, alpha=0.1, color=\"g\")\n",
    "plt.plot(train_sizes, train_scores_mean, 'o-', color=\"r\", label=\"Training score\")\n",
    "plt.plot(train_sizes, test_scores_mean, 'o-', color=\"b\", label=\"Cross-validation score\")\n",
    "\n",
    "# Plot the test score as a separate line\n",
    "# plt.plot(train_sizes, [test_accuracy] * len(train_sizes), 'o-', color='b', label='Test score')\n",
    "\n",
    "# Set the y-axis limits\n",
    "plt.ylim(0, 1.1)\n",
    "\n",
    "# Add legend and show the plot\n",
    "plt.legend(loc=\"best\")\n",
    "plt.show()"
   ]
  },
  {
   "cell_type": "code",
   "execution_count": 8,
   "id": "7b770001",
   "metadata": {
    "execution": {
     "iopub.execute_input": "2024-12-02T10:22:11.930182Z",
     "iopub.status.busy": "2024-12-02T10:22:11.929667Z",
     "iopub.status.idle": "2024-12-02T10:22:11.973748Z",
     "shell.execute_reply": "2024-12-02T10:22:11.972561Z"
    },
    "papermill": {
     "duration": 0.056148,
     "end_time": "2024-12-02T10:22:11.976372",
     "exception": false,
     "start_time": "2024-12-02T10:22:11.920224",
     "status": "completed"
    },
    "tags": []
   },
   "outputs": [
    {
     "name": "stdout",
     "output_type": "stream",
     "text": [
      "              precision    recall  f1-score   support\n",
      "\n",
      "       Anger       0.91      0.91      0.91       702\n",
      "   Happiness       0.88      0.89      0.88       719\n",
      "     Neutral       0.94      0.97      0.96       669\n",
      "     Sadness       0.92      0.88      0.90       694\n",
      "\n",
      "    accuracy                           0.91      2784\n",
      "   macro avg       0.91      0.91      0.91      2784\n",
      "weighted avg       0.91      0.91      0.91      2784\n",
      "\n"
     ]
    }
   ],
   "source": [
    "from sklearn.metrics import classification_report\n",
    "print(classification_report(ts_labels, prediction, target_names=category_names))"
   ]
  },
  {
   "cell_type": "code",
   "execution_count": 9,
   "id": "bceed2d7",
   "metadata": {
    "execution": {
     "iopub.execute_input": "2024-12-02T10:22:11.992835Z",
     "iopub.status.busy": "2024-12-02T10:22:11.992451Z",
     "iopub.status.idle": "2024-12-02T10:22:12.471872Z",
     "shell.execute_reply": "2024-12-02T10:22:12.470597Z"
    },
    "papermill": {
     "duration": 0.49057,
     "end_time": "2024-12-02T10:22:12.474220",
     "exception": false,
     "start_time": "2024-12-02T10:22:11.983650",
     "status": "completed"
    },
    "tags": []
   },
   "outputs": [
    {
     "name": "stdout",
     "output_type": "stream",
     "text": [
      "Number of overlapping samples: 0\n",
      "[[639  40   7  16]\n",
      " [ 34 639  15  31]\n",
      " [  1  12 650   6]\n",
      " [ 27  39  18 610]]\n"
     ]
    }
   ],
   "source": [
    "# Check for overlaps between train and test datasets\n",
    "train_set = set(map(tuple, tr_features))\n",
    "test_set = set(map(tuple, ts_features))\n",
    "overlap = train_set.intersection(test_set)\n",
    "print(f\"Number of overlapping samples: {len(overlap)}\")\n",
    "print(conf_matrix)"
   ]
  },
  {
   "cell_type": "code",
   "execution_count": 10,
   "id": "8b1758b0",
   "metadata": {
    "execution": {
     "iopub.execute_input": "2024-12-02T10:22:12.490919Z",
     "iopub.status.busy": "2024-12-02T10:22:12.490538Z",
     "iopub.status.idle": "2024-12-02T10:22:16.809487Z",
     "shell.execute_reply": "2024-12-02T10:22:16.808241Z"
    },
    "papermill": {
     "duration": 4.330425,
     "end_time": "2024-12-02T10:22:16.811887",
     "exception": false,
     "start_time": "2024-12-02T10:22:12.481462",
     "status": "completed"
    },
    "tags": []
   },
   "outputs": [
    {
     "name": "stdout",
     "output_type": "stream",
     "text": [
      "Training Accuracy: 0.9379\n",
      "Test Accuracy: 0.9116\n"
     ]
    }
   ],
   "source": [
    "train_accuracy = neigh.score(tr_features, tr_labels)\n",
    "test_accuracy = accuracy_score(ts_labels, prediction)\n",
    "print(f\"Training Accuracy: {train_accuracy:.4f}\")\n",
    "print(f\"Test Accuracy: {test_accuracy:.4f}\")"
   ]
  },
  {
   "cell_type": "code",
   "execution_count": 11,
   "id": "9956cc0d",
   "metadata": {
    "execution": {
     "iopub.execute_input": "2024-12-02T10:22:16.828091Z",
     "iopub.status.busy": "2024-12-02T10:22:16.827709Z",
     "iopub.status.idle": "2024-12-02T10:22:18.855087Z",
     "shell.execute_reply": "2024-12-02T10:22:18.853825Z"
    },
    "papermill": {
     "duration": 2.038192,
     "end_time": "2024-12-02T10:22:18.857533",
     "exception": false,
     "start_time": "2024-12-02T10:22:16.819341",
     "status": "completed"
    },
    "tags": []
   },
   "outputs": [
    {
     "name": "stdout",
     "output_type": "stream",
     "text": [
      "Cross-Validation Scores: [0.91199713 0.92528736 0.92097701 0.90621631 0.93424362]\n",
      "Mean Cross-Validation Accuracy: 0.9197\n"
     ]
    }
   ],
   "source": [
    "from sklearn.model_selection import cross_val_score\n",
    "cv_scores = cross_val_score(neigh, tr_features, tr_labels, cv=5)\n",
    "print(f\"Cross-Validation Scores: {cv_scores}\")\n",
    "print(f\"Mean Cross-Validation Accuracy: {np.mean(cv_scores):.4f}\")"
   ]
  },
  {
   "cell_type": "code",
   "execution_count": 12,
   "id": "492b2041",
   "metadata": {
    "execution": {
     "iopub.execute_input": "2024-12-02T10:22:18.874142Z",
     "iopub.status.busy": "2024-12-02T10:22:18.873725Z",
     "iopub.status.idle": "2024-12-02T10:22:18.879678Z",
     "shell.execute_reply": "2024-12-02T10:22:18.878576Z"
    },
    "papermill": {
     "duration": 0.016828,
     "end_time": "2024-12-02T10:22:18.881725",
     "exception": false,
     "start_time": "2024-12-02T10:22:18.864897",
     "status": "completed"
    },
    "tags": []
   },
   "outputs": [
    {
     "name": "stdout",
     "output_type": "stream",
     "text": [
      "Misclassified Samples: [ 3  8 24 29 34 36 45 47 53 71]\n"
     ]
    }
   ],
   "source": [
    "misclassified_indices = np.where(ts_labels != prediction)[0]\n",
    "print(\"Misclassified Samples:\", misclassified_indices[:10])\n"
   ]
  }
 ],
 "metadata": {
  "anaconda-cloud": {},
  "colab": {
   "provenance": []
  },
  "kaggle": {
   "accelerator": "none",
   "dataSources": [
    {
     "datasetId": 6055323,
     "sourceId": 9865305,
     "sourceType": "datasetVersion"
    }
   ],
   "dockerImageVersionId": 30787,
   "isGpuEnabled": false,
   "isInternetEnabled": true,
   "language": "python",
   "sourceType": "notebook"
  },
  "kernelspec": {
   "display_name": "Python 3",
   "language": "python",
   "name": "python3"
  },
  "language_info": {
   "codemirror_mode": {
    "name": "ipython",
    "version": 3
   },
   "file_extension": ".py",
   "mimetype": "text/x-python",
   "name": "python",
   "nbconvert_exporter": "python",
   "pygments_lexer": "ipython3",
   "version": "3.10.14"
  },
  "papermill": {
   "default_parameters": {},
   "duration": 4939.893603,
   "end_time": "2024-12-02T10:22:21.511849",
   "environment_variables": {},
   "exception": null,
   "input_path": "__notebook__.ipynb",
   "output_path": "__notebook__.ipynb",
   "parameters": {},
   "start_time": "2024-12-02T09:00:01.618246",
   "version": "2.6.0"
  }
 },
 "nbformat": 4,
 "nbformat_minor": 5
}
